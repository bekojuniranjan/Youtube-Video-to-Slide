{
 "cells": [
  {
   "attachments": {},
   "cell_type": "markdown",
   "metadata": {},
   "source": [
    "## import libraries"
   ]
  },
  {
   "cell_type": "code",
   "execution_count": 8,
   "metadata": {},
   "outputs": [],
   "source": [
    "from pytube import YouTube\n",
    "import cv2\n",
    "import numpy as np\n",
    "from PIL import Image as im \n",
    "from sklearn.neighbors import LocalOutlierFactor\n",
    "\n",
    "download_dir = \"youtube-download\"\n",
    "slide_dir = \"youtube-slide\""
   ]
  },
  {
   "attachments": {},
   "cell_type": "markdown",
   "metadata": {},
   "source": [
    "## Take YouTube Video link as input and Download the Video"
   ]
  },
  {
   "cell_type": "code",
   "execution_count": 9,
   "metadata": {},
   "outputs": [],
   "source": [
    "link = input(\"Enter the YouTube Video Link Containing Slide: \")\n",
    "link = link.split(\"&\")[0]\n",
    "yt = YouTube(link)\n",
    "try:\n",
    "    title = yt.title.split()[0] + \".mp4\"\n",
    "except:\n",
    "    title = \"current_video.mp4\"\n",
    "\n",
    "try:\n",
    "    try:\n",
    "        yt.streams.filter(adaptive=True, only_video=True).order_by('resolution').desc().first().download(download_dir, title)\n",
    "    except KeyError as e:\n",
    "        yt.streams.filter(progressive=True).order_by('resolution').desc().first().download(download_dir, title)\n",
    "except AttributeError as ae:\n",
    "    print(\"Attribute Error try another video\")"
   ]
  },
  {
   "cell_type": "code",
   "execution_count": 10,
   "metadata": {},
   "outputs": [
    {
     "data": {
      "text/plain": [
       "'current_video.mp4'"
      ]
     },
     "execution_count": 10,
     "metadata": {},
     "output_type": "execute_result"
    }
   ],
   "source": [
    "title"
   ]
  },
  {
   "attachments": {},
   "cell_type": "markdown",
   "metadata": {},
   "source": [
    "## Read the YouTube Video and then Extract frame and differ"
   ]
  },
  {
   "cell_type": "code",
   "execution_count": 12,
   "metadata": {},
   "outputs": [],
   "source": [
    "import cv2\n",
    "import numpy as np\n",
    "\n",
    "download_dir = \"youtube-download\"\n",
    "slide_dir = \"youtube-slide\"\n",
    "cap = cv2.VideoCapture(download_dir + \"/\" + title)\n",
    "\n",
    "\n",
    "if (cap.isOpened() == False):\n",
    "    print(\"Error opening video file\")\n",
    "\n",
    "list_of_frame = []\n",
    "previous_Frame = None\n",
    "threshold = 8.0 ## replace this value\n",
    "diff_values = []\n",
    "frame_count = 0\n",
    "fps = cap.get(cv2.CAP_PROP_FPS)\n",
    "skip_sec = 2\n",
    "while(cap.isOpened()):\n",
    "    frame_id = int(fps*(skip_sec * frame_count))\n",
    "    cap.set(cv2.CAP_PROP_POS_FRAMES, frame_id)\n",
    "    ret, frame = cap.read()\n",
    "    if ret:\n",
    "        if previous_Frame is not None:\n",
    "            h, w, _ = frame.shape\n",
    "            diff = cv2.subtract(frame, previous_Frame)\n",
    "            diff_value  = np.sum(diff) / (h * w)\n",
    "            # print(diff_value, frame_count, frame_id)\n",
    "            diff_values.append(diff_value)\n",
    "        previous_Frame = frame\n",
    "        list_of_frame.append(frame)\n",
    "        frame_count += 1 \n",
    "    else:\n",
    "        cap.release()\n",
    "        break\n",
    "    "
   ]
  },
  {
   "cell_type": "code",
   "execution_count": 13,
   "metadata": {},
   "outputs": [],
   "source": [
    "diff_values_expand_dims = np.expand_dims(np.array(diff_values), axis=1)\n",
    "# diff_values_expand_dims"
   ]
  },
  {
   "cell_type": "code",
   "execution_count": 14,
   "metadata": {},
   "outputs": [],
   "source": [
    "# predicting slides using Anomaly Detection \n",
    "\n",
    "lof = LocalOutlierFactor(n_neighbors=20, n_jobs=-1)\n",
    "prediction = lof.fit_predict(diff_values_expand_dims)\n",
    "list_of_frame_arr = np.array(list_of_frame)\n",
    "frames_for_slide = list_of_frame_arr[np.where(prediction==-1)[0]]\n",
    "images = []\n",
    "for i in range(frames_for_slide.shape[0]):\n",
    "    img_arr = frames_for_slide[i]\n",
    "    img_arr = cv2.cvtColor(img_arr, cv2.COLOR_BGR2RGB)\n",
    "    images.append(im.fromarray(img_arr))\n",
    "images[0].save(slide_dir + \"/\" + title.split('.')[0]+\".pdf\", save_all=True, append_images = images[1:])\n"
   ]
  },
  {
   "cell_type": "code",
   "execution_count": 17,
   "metadata": {},
   "outputs": [],
   "source": [
    "# predicting slides using Thresholding values\n",
    "\n",
    "list_of_frame_arr = np.array(list_of_frame)\n",
    "frames_for_slide = list_of_frame_arr[np.where(np.array(diff_values) > 8)[0]]\n",
    "images = []\n",
    "for i in range(frames_for_slide.shape[0]):\n",
    "    img_arr = frames_for_slide[i]\n",
    "    img_arr = cv2.cvtColor(img_arr, cv2.COLOR_BGR2RGB)\n",
    "    images.append(im.fromarray(img_arr))\n",
    "images[0].save(slide_dir + \"/\" + title.split('.')[0]+\"_copy.pdf\", save_all=True, append_images = images[1:])\n"
   ]
  },
  {
   "cell_type": "code",
   "execution_count": null,
   "metadata": {},
   "outputs": [],
   "source": []
  }
 ],
 "metadata": {
  "kernelspec": {
   "display_name": "Python 3",
   "language": "python",
   "name": "python3"
  },
  "language_info": {
   "codemirror_mode": {
    "name": "ipython",
    "version": 3
   },
   "file_extension": ".py",
   "mimetype": "text/x-python",
   "name": "python",
   "nbconvert_exporter": "python",
   "pygments_lexer": "ipython3",
   "version": "3.10.6"
  },
  "orig_nbformat": 4
 },
 "nbformat": 4,
 "nbformat_minor": 2
}
