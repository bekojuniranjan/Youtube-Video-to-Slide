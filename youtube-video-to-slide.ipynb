{
 "cells": [
  {
   "attachments": {},
   "cell_type": "markdown",
   "metadata": {},
   "source": [
    "## import libraries"
   ]
  },
  {
   "cell_type": "code",
   "execution_count": 75,
   "metadata": {},
   "outputs": [],
   "source": [
    "from pytube import YouTube\n",
    "\n",
    "\n",
    "download_dir = \"youtube-download\"\n",
    "slide_dir = \"youtube-slide\""
   ]
  },
  {
   "attachments": {},
   "cell_type": "markdown",
   "metadata": {},
   "source": [
    "## Take YouTube Video link as input and Download the Video"
   ]
  },
  {
   "cell_type": "code",
   "execution_count": 76,
   "metadata": {},
   "outputs": [],
   "source": [
    "link = input(\"Enter the YouTube Video Link Containing Slide: \")\n",
    "link = link.split(\"&\")[0]\n",
    "yt = YouTube(link)\n",
    "try:\n",
    "    title = yt.title.split()[0] + \".mp4\"\n",
    "except:\n",
    "    title = \"current_video.mp4\"\n",
    "\n",
    "try:\n",
    "    try:\n",
    "        yt.streams.filter(adaptive=True, only_video=True).order_by('resolution').desc().first().download(download_dir, title)\n",
    "    except KeyError as e:\n",
    "        yt.streams.filter(progressive=True).order_by('resolution').desc().first().download(download_dir, title)\n",
    "except AttributeError as ae:\n",
    "    print(\"Attribute Error try another video\")"
   ]
  },
  {
   "cell_type": "code",
   "execution_count": 77,
   "metadata": {},
   "outputs": [
    {
     "data": {
      "text/plain": [
       "'Continuous.mp4'"
      ]
     },
     "execution_count": 77,
     "metadata": {},
     "output_type": "execute_result"
    }
   ],
   "source": []
  },
  {
   "cell_type": "code",
   "execution_count": null,
   "metadata": {},
   "outputs": [],
   "source": []
  }
 ],
 "metadata": {
  "kernelspec": {
   "display_name": "Python 3",
   "language": "python",
   "name": "python3"
  },
  "language_info": {
   "codemirror_mode": {
    "name": "ipython",
    "version": 3
   },
   "file_extension": ".py",
   "mimetype": "text/x-python",
   "name": "python",
   "nbconvert_exporter": "python",
   "pygments_lexer": "ipython3",
   "version": "3.10.6"
  },
  "orig_nbformat": 4
 },
 "nbformat": 4,
 "nbformat_minor": 2
}
